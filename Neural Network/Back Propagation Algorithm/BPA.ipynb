{
 "cells": [
  {
   "cell_type": "code",
   "execution_count": 24,
   "metadata": {},
   "outputs": [
    {
     "name": "stdout",
     "output_type": "stream",
     "text": [
      "Enter x[0]: 0\n",
      "Enter x[1]: 0\n"
     ]
    },
    {
     "data": {
      "image/png": "[encoded data removed]",
      "text/plain": [
       "<Figure size 432x288 with 1 Axes>"
      ]
     },
     "metadata": {
      "needs_background": "light"
     },
     "output_type": "display_data"
    }
   ],
   "source": [
    "import numpy as np\n",
    "import pandas as pd\n",
    "from matplotlib import pyplot as plt\n",
    "import math\n",
    "\n",
    "class BPA(object):  \n",
    "    \n",
    "    def sumFunction( self ,w, x ):\n",
    "        sum_ = np.inner(w , x)\n",
    "        return sum_\n",
    "    \n",
    "    def sigmoid(self , inp):\n",
    "        return 1/(1 + math.exp(-inp))\n",
    "    \n",
    "    def error(self, Expected, Actual):\n",
    "        firstDer = Actual * ( 1 - Actual )\n",
    "        return (Expected - Actual)*firstDer\n",
    "    \n",
    "    def errorLocal(self, Actual, err, W):\n",
    "        firstDer = Actual * ( 1 - Actual )\n",
    "        return err*firstDer*W\n",
    "        \n",
    "    def calculateCorrection(self, error, W):\n",
    "        learningRate = 0.25\n",
    "        return learningRate*error*W\n",
    "    \n",
    "    def updatedWeights(self, x, z, w, w1, w2, del1, del12, del22 ):\n",
    "        for i in range(3):\n",
    "            for j in range(3):\n",
    "                if i == 0:\n",
    "                    w[j] = w[j] + self.calculateCorrection(del1, z[j] )\n",
    "                elif i == 1:\n",
    "                    w1[j] = w1[j] + self.calculateCorrection(del12, x[j])\n",
    "                else:\n",
    "                    w2[j] = w2[j] + self.calculateCorrection(del22, x[j])  \n",
    "                    \n",
    "                    \n",
    "    def plot(self, x, y ):\n",
    "        plt.scatter( x, y, label = 'Error Rate',color = 'r')\n",
    "        plt.xlabel('Error')\n",
    "        plt.ylabel('Iteration')\n",
    "        plt.title('Back Propogation Error Rate')\n",
    "        plt.legend()\n",
    "        plt.show()\n",
    "        \n",
    "    # Printing Values\n",
    "    def printValues(self , i, del1, w, w1, w2):\n",
    "        print('\\nIterattion\\t:\\t' , i + 1)\n",
    "        print('Error\\t\\t:\\t' , del1)\n",
    "        print('Weights\\t\\t:\\t' , w)\n",
    "        print('Weights 1\\t:\\t' , w1)\n",
    "        print('Weights 2\\t:\\t' , w2)\n",
    "        \n",
    "        \n",
    "    def iteration(self, x, w, w1, w2):\n",
    "        i = 0\n",
    "        del1 = 1\n",
    "        # Storing in List for Ploting Graph\n",
    "        errorList = []\n",
    "        iterationList = []\n",
    "\n",
    "        while del1 != 0:\n",
    "            sumValueZin1 = self.sumFunction(w1 , x)\n",
    "            z1 = self.sigmoid(sumValueZin1)\n",
    "\n",
    "            sumValueZin2 = self.sumFunction(w2 , x)\n",
    "            z2 = self.sigmoid(sumValueZin2)\n",
    "            z = [ z1 , z2 , 1]\n",
    "            sumValueYout = self.sumFunction(w , z )\n",
    "            y = self.sigmoid(sumValueYout)\n",
    "            # Error \n",
    "            del1 = self.error(1, y)\n",
    "            \n",
    "            #Appending Error and Iteration Number\n",
    "            errorList.append(del1)\n",
    "            iterationList.append(i + 1)\n",
    "            \n",
    "            # Local Error\n",
    "            del12 = self.errorLocal(z1, del1,  w[0])\n",
    "            del22 = self.errorLocal(z2, del1, w[1])\n",
    "    \n",
    "            #Corrected Weights\n",
    "            self.updatedWeights(x, z, w, w1, w2, del1, del12, del22 )\n",
    "            \n",
    "            # For printing values in each iteration\n",
    "            \n",
    "            #self.printValues(i, del1, w, w1, w2)\n",
    "    \n",
    "            temp = del1*100000 # Till Two decimal Places\n",
    "            if int(temp) > 0  and int(temp) < 10:\n",
    "                #Ploting the Error with Iteration\n",
    "                self.plot(errorList, iterationList)\n",
    "                break\n",
    "            i = i + 1\n",
    "\n",
    "# Main Function\n",
    "def main():\n",
    "    x = [ 0, 1, 1 ]\n",
    "    x[0] = int(input(\"Enter x[0]: \"))\n",
    "    x[1] = int(input(\"Enter x[1]: \"))\n",
    "    w = [0.4, 0.1, -0.2]\n",
    "    w1 = [0.6, -0.1, 0.3]\n",
    "    w2 = [-0.3, 0.4, 0.5]\n",
    "    obj = BPA()\n",
    "    obj.iteration(x, w, w1, w2)\n",
    "    \n",
    "if __name__ == \"__main__\":\n",
    "    main() "
   ]
  },
  {
   "cell_type": "code",
   "execution_count": null,
   "metadata": {},
   "outputs": [],
   "source": []
  },
  {
   "cell_type": "code",
   "execution_count": null,
   "metadata": {},
   "outputs": [],
   "source": [
    "\n"
   ]
  },
  {
   "cell_type": "code",
   "execution_count": null,
   "metadata": {},
   "outputs": [],
   "source": []
  },
  {
   "cell_type": "code",
   "execution_count": null,
   "metadata": {},
   "outputs": [],
   "source": []
  }
 ],
 "metadata": {
  "kernelspec": {
   "display_name": "Python 3",
   "language": "python",
   "name": "python3"
  },
  "language_info": {
   "codemirror_mode": {
    "name": "ipython",
    "version": 3
   },
   "file_extension": ".py",
   "mimetype": "text/x-python",
   "name": "python",
   "nbconvert_exporter": "python",
   "pygments_lexer": "ipython3",
   "version": "3.7.2"
  }
 },
 "nbformat": 4,
 "nbformat_minor": 2
}
