{
 "cells": [
  {
   "cell_type": "markdown",
   "metadata": {},
   "source": [
    "\n",
    "# Part 1 - Building the CNN\n",
    "\n",
    "# Importing the Keras libraries and packages"
   ]
  },
  {
   "cell_type": "code",
   "execution_count": 28,
   "metadata": {},
   "outputs": [],
   "source": [
    "from keras.models import Sequential\n",
    "from keras.layers import Conv2D\n",
    "from keras.layers import MaxPooling2D\n",
    "from keras.layers import Flatten\n",
    "from keras.layers import Dense"
   ]
  },
  {
   "cell_type": "markdown",
   "metadata": {},
   "source": [
    "# Creating an Object of Sequential"
   ]
  },
  {
   "cell_type": "code",
   "execution_count": 29,
   "metadata": {},
   "outputs": [],
   "source": [
    "classifier = Sequential()"
   ]
  },
  {
   "cell_type": "markdown",
   "metadata": {},
   "source": [
    "# Step 1 - Convolution\n",
    "# Convolution - input image, applying feature detectors => feature map\n",
    "# 3D Array because colored images"
   ]
  },
  {
   "cell_type": "code",
   "execution_count": 30,
   "metadata": {},
   "outputs": [],
   "source": [
    "classifier.add(Conv2D(32, (3, 3), input_shape = (64, 64, 3), activation = 'relu'))"
   ]
  },
  {
   "cell_type": "markdown",
   "metadata": {},
   "source": [
    "# Step 2 - Pooling\n",
    "# Feature Map - Take Max -> Pooled Feature Map, reduced size, reduce complexity\n",
    "# without losing performance, don't lose spatial structure"
   ]
  },
  {
   "cell_type": "code",
   "execution_count": 31,
   "metadata": {},
   "outputs": [],
   "source": [
    "classifier.add(MaxPooling2D(pool_size = (2, 2)))"
   ]
  },
  {
   "cell_type": "markdown",
   "metadata": {},
   "source": [
    "\n",
    "# Adding second convolution layer\n",
    "# don't need to include input_shape since we're done it"
   ]
  },
  {
   "cell_type": "code",
   "execution_count": 32,
   "metadata": {},
   "outputs": [],
   "source": [
    "classifier.add(Conv2D(32, (3, 3), activation = 'relu'))\n",
    "classifier.add(MaxPooling2D(pool_size = (2, 2)))"
   ]
  },
  {
   "cell_type": "markdown",
   "metadata": {},
   "source": [
    "## Step 3 - Flattening\n",
    "- Pooled Feature Maps apply flattening maps to a huge vector \n",
    "- for a future ANN that is fully-conntected\n",
    "- Why don't we lose spatial structure by flattening?\n",
    "- We don't because the high numbers from convolution feature from the feature detector\n",
    "- Max Pooling keeps them these high numbers, and flattening keeps these high numbers\n",
    "- Why didn't we take all the pixels and flatten into a huge vector?\n",
    "- Only pixels of itself, but not how they're spatially structured around it\n",
    "- But if we apply convolution and pooling, since feature map corresponds to each feature \n",
    "- of an image, specific image unique pixels, we keep the spatial structure of the picture."
   ]
  },
  {
   "cell_type": "code",
   "execution_count": 33,
   "metadata": {},
   "outputs": [],
   "source": [
    "classifier.add(Flatten())"
   ]
  },
  {
   "cell_type": "markdown",
   "metadata": {},
   "source": [
    "# Step 4 - Full Connection"
   ]
  },
  {
   "cell_type": "code",
   "execution_count": 34,
   "metadata": {},
   "outputs": [],
   "source": [
    "classifier.add(Dense(units = 128, activation = 'relu'))\n",
    "classifier.add(Dense(units = 1, activation = 'sigmoid'))"
   ]
  },
  {
   "cell_type": "markdown",
   "metadata": {},
   "source": [
    "# Compile - SGD, Loss Function, Performance Metric\n",
    "# Logarithmic loss - binary cross entropy, more than two outcomes, categorical cross entropy\n",
    "# Metrics is the accuracy metric\n",
    "\n",
    "```py\n",
    "Adam optimizer.\n",
    "\n",
    "Default parameters follow those provided in the original paper.\n",
    "\n",
    "Arguments\n",
    "\n",
    "learning_rate: float >= 0. Learning rate.\n",
    "beta_1: float, 0 < beta < 1. Generally close to 1.\n",
    "beta_2: float, 0 < beta < 1. Generally close to 1.\n",
    "amsgrad: boolean. Whether to apply the AMSGrad variant of this algorithm from the paper \"On the Convergence of Adam and Beyond\".\n",
    "```"
   ]
  },
  {
   "cell_type": "code",
   "execution_count": 35,
   "metadata": {},
   "outputs": [],
   "source": [
    "classifier.compile(optimizer = 'adam', loss = 'binary_crossentropy', metrics = ['accuracy'])"
   ]
  },
  {
   "cell_type": "markdown",
   "metadata": {},
   "source": [
    "## part 2 - Fitting the CNN to the images \n",
    "## Keras preprocessing images to prevent overfitting, image augmentation, \n",
    "- great accuracy on training poor results on test sets\n",
    "- Need lots of images to find correlations, patterns in pixels\n",
    "- Find patterns in pixels, 10000 images, 8000 training, not much exactly or use a trick\n",
    "- Image augmentation will create batches and each batch will create random transformation\n",
    "- leading to more diverse images and more training\n",
    "- Image augmentation allows us to enrich our dataset to prevent overfitting\n",
    "\n"
   ]
  },
  {
   "cell_type": "code",
   "execution_count": 36,
   "metadata": {},
   "outputs": [
    {
     "name": "stdout",
     "output_type": "stream",
     "text": [
      "Found 8000 images belonging to 2 classes.\n",
      "Found 2000 images belonging to 2 classes.\n"
     ]
    }
   ],
   "source": [
    "\n",
    "from keras.preprocessing.image import ImageDataGenerator\n",
    "\n",
    "train_datagen = ImageDataGenerator(\n",
    "        rescale=1./255,\n",
    "        shear_range=0.2,\n",
    "        zoom_range=0.2,\n",
    "        horizontal_flip=True)\n",
    "\n",
    "test_datagen = ImageDataGenerator(rescale=1./255)\n",
    "\n",
    "training_set = train_datagen.flow_from_directory('Data/Train',\n",
    "                                                 target_size=(64, 64),\n",
    "                                                 batch_size=32,\n",
    "                                                 class_mode='binary')\n",
    "\n",
    "test_set = test_datagen.flow_from_directory('Data/Test',\n",
    "                                            target_size=(64, 64),\n",
    "                                            batch_size=32,\n",
    "                                            class_mode='binary')"
   ]
  },
  {
   "cell_type": "markdown",
   "metadata": {},
   "source": [
    "# Traing and Testing on the Images"
   ]
  },
  {
   "cell_type": "code",
   "execution_count": 37,
   "metadata": {},
   "outputs": [
    {
     "name": "stderr",
     "output_type": "stream",
     "text": [
      "/Library/Frameworks/Python.framework/Versions/3.7/lib/python3.7/site-packages/ipykernel_launcher.py:11: UserWarning: The semantics of the Keras 2 argument `steps_per_epoch` is not the same as the Keras 1 argument `samples_per_epoch`. `steps_per_epoch` is the number of batches to draw from the generator at each epoch. Basically steps_per_epoch = samples_per_epoch/batch_size. Similarly `nb_val_samples`->`validation_steps` and `val_samples`->`steps` arguments have changed. Update your method calls accordingly.\n",
      "  # This is added back by InteractiveShellApp.init_path()\n",
      "/Library/Frameworks/Python.framework/Versions/3.7/lib/python3.7/site-packages/ipykernel_launcher.py:11: UserWarning: Update your `fit_generator` call to the Keras 2 API: `fit_generator(<keras.pre..., steps_per_epoch=250, validation_data=<keras.pre..., epochs=25)`\n",
      "  # This is added back by InteractiveShellApp.init_path()\n"
     ]
    },
    {
     "name": "stdout",
     "output_type": "stream",
     "text": [
      "Epoch 1/25\n",
      "250/250 [==============================] - 63s 251ms/step - loss: 0.6849 - accuracy: 0.5663 - val_loss: 0.6054 - val_accuracy: 0.6325\n",
      "Epoch 2/25\n",
      "250/250 [==============================] - 54s 217ms/step - loss: 0.6144 - accuracy: 0.6637 - val_loss: 0.6047 - val_accuracy: 0.7175\n",
      "Epoch 3/25\n",
      "250/250 [==============================] - 54s 217ms/step - loss: 0.5672 - accuracy: 0.7051 - val_loss: 0.6983 - val_accuracy: 0.6785\n",
      "Epoch 4/25\n",
      "250/250 [==============================] - 54s 217ms/step - loss: 0.5390 - accuracy: 0.7259 - val_loss: 0.6995 - val_accuracy: 0.7585\n",
      "Epoch 5/25\n",
      "250/250 [==============================] - 54s 216ms/step - loss: 0.5191 - accuracy: 0.7400 - val_loss: 0.2883 - val_accuracy: 0.7560\n",
      "Epoch 6/25\n",
      "250/250 [==============================] - 54s 217ms/step - loss: 0.5016 - accuracy: 0.7533 - val_loss: 0.4954 - val_accuracy: 0.7685\n",
      "Epoch 7/25\n",
      "250/250 [==============================] - 54s 217ms/step - loss: 0.4683 - accuracy: 0.7804 - val_loss: 0.5462 - val_accuracy: 0.7740\n",
      "Epoch 8/25\n",
      "250/250 [==============================] - 54s 217ms/step - loss: 0.4608 - accuracy: 0.7778 - val_loss: 0.3052 - val_accuracy: 0.7925\n",
      "Epoch 9/25\n",
      "250/250 [==============================] - 54s 217ms/step - loss: 0.4498 - accuracy: 0.7856 - val_loss: 0.2371 - val_accuracy: 0.7895\n",
      "Epoch 10/25\n",
      "250/250 [==============================] - 54s 216ms/step - loss: 0.4366 - accuracy: 0.7959 - val_loss: 0.4152 - val_accuracy: 0.8010\n",
      "Epoch 11/25\n",
      "250/250 [==============================] - 54s 217ms/step - loss: 0.4231 - accuracy: 0.8012 - val_loss: 0.5082 - val_accuracy: 0.7935\n",
      "Epoch 12/25\n",
      "250/250 [==============================] - 54s 217ms/step - loss: 0.4072 - accuracy: 0.8138 - val_loss: 0.4137 - val_accuracy: 0.7995\n",
      "Epoch 13/25\n",
      "250/250 [==============================] - 54s 218ms/step - loss: 0.3955 - accuracy: 0.8198 - val_loss: 0.4346 - val_accuracy: 0.7925\n",
      "Epoch 14/25\n",
      "250/250 [==============================] - 54s 217ms/step - loss: 0.3771 - accuracy: 0.8253 - val_loss: 0.3045 - val_accuracy: 0.8100\n",
      "Epoch 15/25\n",
      "250/250 [==============================] - 54s 217ms/step - loss: 0.3757 - accuracy: 0.8313 - val_loss: 0.5310 - val_accuracy: 0.7930\n",
      "Epoch 16/25\n",
      "250/250 [==============================] - 54s 217ms/step - loss: 0.3661 - accuracy: 0.8379 - val_loss: 0.4371 - val_accuracy: 0.8030\n",
      "Epoch 17/25\n",
      "250/250 [==============================] - 54s 217ms/step - loss: 0.3483 - accuracy: 0.8422 - val_loss: 0.5020 - val_accuracy: 0.7775\n",
      "Epoch 18/25\n",
      "250/250 [==============================] - 15438s 62s/step - loss: 0.3428 - accuracy: 0.8481 - val_loss: 0.2484 - val_accuracy: 0.8040\n",
      "Epoch 19/25\n",
      "250/250 [==============================] - 86s 343ms/step - loss: 0.3236 - accuracy: 0.8564 - val_loss: 0.5316 - val_accuracy: 0.8140\n",
      "Epoch 20/25\n",
      "250/250 [==============================] - 75s 298ms/step - loss: 0.3274 - accuracy: 0.8545 - val_loss: 0.3470 - val_accuracy: 0.8060\n",
      "Epoch 21/25\n",
      "250/250 [==============================] - 65s 259ms/step - loss: 0.3164 - accuracy: 0.8602 - val_loss: 0.9551 - val_accuracy: 0.8175\n",
      "Epoch 22/25\n",
      "250/250 [==============================] - 59s 236ms/step - loss: 0.2941 - accuracy: 0.8739 - val_loss: 0.5916 - val_accuracy: 0.8065\n",
      "Epoch 23/25\n",
      "250/250 [==============================] - 64s 255ms/step - loss: 0.2908 - accuracy: 0.8702 - val_loss: 0.2111 - val_accuracy: 0.7990\n",
      "Epoch 24/25\n",
      "250/250 [==============================] - 71s 286ms/step - loss: 0.2843 - accuracy: 0.8769 - val_loss: 0.4898 - val_accuracy: 0.8150\n",
      "Epoch 25/25\n",
      "250/250 [==============================] - 68s 273ms/step - loss: 0.2774 - accuracy: 0.8816 - val_loss: 0.7175 - val_accuracy: 0.8245\n"
     ]
    },
    {
     "data": {
      "text/plain": [
       "<keras.callbacks.callbacks.History at 0x1359133c8>"
      ]
     },
     "execution_count": 37,
     "metadata": {},
     "output_type": "execute_result"
    }
   ],
   "source": [
    "'''\n",
    "classifier.fit_generator(training_set,\n",
    "                        samples_per_epoch=8000,\n",
    "                        nb_epoch=1,\n",
    "                        validation_data=test_set,\n",
    "                        nb_val_samples=2000)\n",
    "'''\n",
    "classifier.fit_generator(training_set,\n",
    "                        steps_per_epoch = 250,\n",
    "                        nb_epoch=25,\n",
    "                        validation_data=test_set)"
   ]
  },
  {
   "cell_type": "markdown",
   "metadata": {},
   "source": [
    "# Testing Image"
   ]
  },
  {
   "cell_type": "code",
   "execution_count": 60,
   "metadata": {},
   "outputs": [
    {
     "name": "stdout",
     "output_type": "stream",
     "text": [
      "Image 1 is a dog\n",
      "Image 2 is a cat\n",
      "Image 3 is a dog\n",
      "Image 4 is a dog\n",
      "Image 5 is a cat\n",
      "Image 6 is a cat\n",
      "Image 7 is a cat\n",
      "Image 8 is a cat\n",
      "Image 9 is a dog\n",
      "Image 10 is a dog\n"
     ]
    }
   ],
   "source": [
    "\n",
    "import numpy as np\n",
    "import matplotlib.pyplot as plt\n",
    "from keras.preprocessing import image\n",
    "for i in range(1,11):\n",
    "    test_image = image.load_img('Data/Prediction/image' + str(i) + '.jpg', target_size=(64, 64))\n",
    "    test_image = image.img_to_array(test_image)\n",
    "    #plt.imshow(test_image/255.)\n",
    "    test_image = np.expand_dims(test_image, axis = 0)\n",
    "    result = classifier.predict(test_image)\n",
    "    if result[0][0] == 1: \n",
    "        prediction = 'dog'\n",
    "    else:\n",
    "        prediction = 'cat'\n",
    "    print('Image ' + str(i) + ' is a ' + prediction)\n",
    "\n",
    "plt.show()\n"
   ]
  },
  {
   "cell_type": "code",
   "execution_count": null,
   "metadata": {},
   "outputs": [],
   "source": []
  },
  {
   "cell_type": "code",
   "execution_count": null,
   "metadata": {},
   "outputs": [],
   "source": []
  },
  {
   "cell_type": "code",
   "execution_count": null,
   "metadata": {},
   "outputs": [],
   "source": []
  },
  {
   "cell_type": "code",
   "execution_count": null,
   "metadata": {},
   "outputs": [],
   "source": []
  }
 ],
 "metadata": {
  "kernelspec": {
   "display_name": "Python 3",
   "language": "python",
   "name": "python3"
  },
  "language_info": {
   "codemirror_mode": {
    "name": "ipython",
    "version": 3
   },
   "file_extension": ".py",
   "mimetype": "text/x-python",
   "name": "python",
   "nbconvert_exporter": "python",
   "pygments_lexer": "ipython3",
   "version": "3.7.2"
  }
 },
 "nbformat": 4,
 "nbformat_minor": 2
}
