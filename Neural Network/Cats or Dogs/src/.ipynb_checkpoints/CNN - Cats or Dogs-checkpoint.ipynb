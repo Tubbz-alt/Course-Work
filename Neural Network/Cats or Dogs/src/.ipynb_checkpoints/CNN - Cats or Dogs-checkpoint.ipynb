{
 "cells": [
  {
   "cell_type": "markdown",
   "metadata": {},
   "source": [
    "\n",
    "# Part 1 - Building the CNN\n",
    "\n",
    "# Importing the Keras libraries and packages"
   ]
  },
  {
   "cell_type": "code",
   "execution_count": 3,
   "metadata": {},
   "outputs": [],
   "source": [
    "from keras.models import Sequential\n",
    "from keras.layers import Conv2D\n",
    "from keras.layers import MaxPooling2D\n",
    "from keras.layers import Flatten\n",
    "from keras.layers import Dense"
   ]
  },
  {
   "cell_type": "markdown",
   "metadata": {},
   "source": [
    "# Creating an Object of Sequential"
   ]
  },
  {
   "cell_type": "code",
   "execution_count": 4,
   "metadata": {},
   "outputs": [],
   "source": [
    "classifier = Sequential()"
   ]
  },
  {
   "cell_type": "markdown",
   "metadata": {},
   "source": [
    "# Step 1 - Convolution\n",
    "# Convolution - input image, applying feature detectors => feature map\n",
    "# 3D Array because colored images"
   ]
  },
  {
   "cell_type": "code",
   "execution_count": 5,
   "metadata": {},
   "outputs": [],
   "source": [
    "classifier.add(Conv2D(32, (3, 3), input_shape = (64, 64, 3), activation = 'relu'))"
   ]
  },
  {
   "cell_type": "markdown",
   "metadata": {},
   "source": [
    "# Step 2 - Pooling\n",
    "# Feature Map - Take Max -> Pooled Feature Map, reduced size, reduce complexity\n",
    "# without losing performance, don't lose spatial structure"
   ]
  },
  {
   "cell_type": "code",
   "execution_count": 6,
   "metadata": {},
   "outputs": [],
   "source": [
    "classifier.add(MaxPooling2D(pool_size = (2, 2)))"
   ]
  },
  {
   "cell_type": "markdown",
   "metadata": {},
   "source": [
    "\n",
    "# Adding second convolution layer\n",
    "# don't need to include input_shape since we're done it"
   ]
  },
  {
   "cell_type": "code",
   "execution_count": 7,
   "metadata": {},
   "outputs": [],
   "source": [
    "classifier.add(Conv2D(32, (3, 3), activation = 'relu'))\n",
    "classifier.add(MaxPooling2D(pool_size = (2, 2)))"
   ]
  },
  {
   "cell_type": "markdown",
   "metadata": {},
   "source": [
    "## Step 3 - Flattening\n",
    "- Pooled Feature Maps apply flattening maps to a huge vector \n",
    "- for a future ANN that is fully-conntected\n",
    "- Why don't we lose spatial structure by flattening?\n",
    "- We don't because the high numbers from convolution feature from the feature detector\n",
    "- Max Pooling keeps them these high numbers, and flattening keeps these high numbers\n",
    "- Why didn't we take all the pixels and flatten into a huge vector?\n",
    "- Only pixels of itself, but not how they're spatially structured around it\n",
    "- But if we apply convolution and pooling, since feature map corresponds to each feature \n",
    "- of an image, specific image unique pixels, we keep the spatial structure of the picture."
   ]
  },
  {
   "cell_type": "code",
   "execution_count": 8,
   "metadata": {},
   "outputs": [],
   "source": [
    "classifier.add(Flatten())"
   ]
  },
  {
   "cell_type": "markdown",
   "metadata": {},
   "source": [
    "# Step 4 - Full Connection"
   ]
  },
  {
   "cell_type": "code",
   "execution_count": 9,
   "metadata": {},
   "outputs": [],
   "source": [
    "classifier.add(Dense(units = 128, activation = 'relu'))\n",
    "classifier.add(Dense(units = 1, activation = 'sigmoid'))"
   ]
  },
  {
   "cell_type": "markdown",
   "metadata": {},
   "source": [
    "# Compile - SGD, Loss Function, Performance Metric\n",
    "# Logarithmic loss - binary cross entropy, more than two outcomes, categorical cross entropy\n",
    "# Metrics is the accuracy metric\n",
    "\n",
    "```py\n",
    "Adam optimizer.\n",
    "\n",
    "Default parameters follow those provided in the original paper.\n",
    "\n",
    "Arguments\n",
    "\n",
    "learning_rate: float >= 0. Learning rate.\n",
    "beta_1: float, 0 < beta < 1. Generally close to 1.\n",
    "beta_2: float, 0 < beta < 1. Generally close to 1.\n",
    "amsgrad: boolean. Whether to apply the AMSGrad variant of this algorithm from the paper \"On the Convergence of Adam and Beyond\".\n",
    "```"
   ]
  },
  {
   "cell_type": "code",
   "execution_count": 10,
   "metadata": {},
   "outputs": [],
   "source": [
    "classifier.compile(optimizer = 'adam', loss = 'binary_crossentropy', metrics = ['accuracy'])"
   ]
  },
  {
   "cell_type": "markdown",
   "metadata": {},
   "source": [
    "## part 2 - Fitting the CNN to the images \n",
    "## Keras preprocessing images to prevent overfitting, image augmentation, \n",
    "- great accuracy on training poor results on test sets\n",
    "- Need lots of images to find correlations, patterns in pixels\n",
    "- Find patterns in pixels, 10000 images, 8000 training, not much exactly or use a trick\n",
    "- Image augmentation will create batches and each batch will create random transformation\n",
    "- leading to more diverse images and more training\n",
    "- Image augmentation allows us to enrich our dataset to prevent overfitting\n",
    "\n"
   ]
  },
  {
   "cell_type": "code",
   "execution_count": 11,
   "metadata": {},
   "outputs": [
    {
     "name": "stdout",
     "output_type": "stream",
     "text": [
      "Found 8000 images belonging to 2 classes.\n",
      "Found 2000 images belonging to 2 classes.\n"
     ]
    }
   ],
   "source": [
    "\n",
    "from keras.preprocessing.image import ImageDataGenerator\n",
    "\n",
    "train_datagen = ImageDataGenerator(\n",
    "        rescale=1./255,\n",
    "        shear_range=0.2,\n",
    "        zoom_range=0.2,\n",
    "        horizontal_flip=True)\n",
    "\n",
    "test_datagen = ImageDataGenerator(rescale=1./255)\n",
    "\n",
    "training_set = train_datagen.flow_from_directory('../Data/Train',\n",
    "                                                 target_size=(64, 64),\n",
    "                                                 batch_size=32,\n",
    "                                                 class_mode='binary')\n",
    "\n",
    "test_set = test_datagen.flow_from_directory('../Data/Test',\n",
    "                                            target_size=(64, 64),\n",
    "                                            batch_size=32,\n",
    "                                            class_mode='binary')"
   ]
  },
  {
   "cell_type": "markdown",
   "metadata": {},
   "source": [
    "# Traing and Testing on the Images"
   ]
  },
  {
   "cell_type": "code",
   "execution_count": 12,
   "metadata": {},
   "outputs": [
    {
     "name": "stderr",
     "output_type": "stream",
     "text": [
      "/Library/Frameworks/Python.framework/Versions/3.7/lib/python3.7/site-packages/ipykernel_launcher.py:11: UserWarning: The semantics of the Keras 2 argument `steps_per_epoch` is not the same as the Keras 1 argument `samples_per_epoch`. `steps_per_epoch` is the number of batches to draw from the generator at each epoch. Basically steps_per_epoch = samples_per_epoch/batch_size. Similarly `nb_val_samples`->`validation_steps` and `val_samples`->`steps` arguments have changed. Update your method calls accordingly.\n",
      "  # This is added back by InteractiveShellApp.init_path()\n",
      "/Library/Frameworks/Python.framework/Versions/3.7/lib/python3.7/site-packages/ipykernel_launcher.py:11: UserWarning: Update your `fit_generator` call to the Keras 2 API: `fit_generator(<keras.pre..., steps_per_epoch=250, validation_data=<keras.pre..., epochs=25)`\n",
      "  # This is added back by InteractiveShellApp.init_path()\n"
     ]
    },
    {
     "name": "stdout",
     "output_type": "stream",
     "text": [
      "Epoch 1/25\n",
      "250/250 [==============================] - 93s 371ms/step - loss: 0.6804 - accuracy: 0.5660 - val_loss: 1.0413 - val_accuracy: 0.5625\n",
      "Epoch 2/25\n",
      "250/250 [==============================] - 89s 357ms/step - loss: 0.6141 - accuracy: 0.6695 - val_loss: 0.7719 - val_accuracy: 0.6700\n",
      "Epoch 3/25\n",
      "250/250 [==============================] - 86s 343ms/step - loss: 0.5718 - accuracy: 0.7014 - val_loss: 0.6659 - val_accuracy: 0.7340\n",
      "Epoch 4/25\n",
      "250/250 [==============================] - 91s 365ms/step - loss: 0.5412 - accuracy: 0.7246 - val_loss: 0.6215 - val_accuracy: 0.7410\n",
      "Epoch 5/25\n",
      "250/250 [==============================] - 90s 362ms/step - loss: 0.5170 - accuracy: 0.7408 - val_loss: 0.3058 - val_accuracy: 0.7590\n",
      "Epoch 6/25\n",
      "250/250 [==============================] - 85s 341ms/step - loss: 0.4979 - accuracy: 0.7556 - val_loss: 0.4735 - val_accuracy: 0.7635\n",
      "Epoch 7/25\n",
      "250/250 [==============================] - 92s 370ms/step - loss: 0.4861 - accuracy: 0.7632 - val_loss: 0.4313 - val_accuracy: 0.7630\n",
      "Epoch 8/25\n",
      "250/250 [==============================] - 85s 341ms/step - loss: 0.4711 - accuracy: 0.7791 - val_loss: 0.3491 - val_accuracy: 0.7840\n",
      "Epoch 9/25\n",
      "250/250 [==============================] - 80s 321ms/step - loss: 0.4592 - accuracy: 0.7819 - val_loss: 0.4573 - val_accuracy: 0.7900\n",
      "Epoch 10/25\n",
      "250/250 [==============================] - 91s 365ms/step - loss: 0.4486 - accuracy: 0.7906 - val_loss: 0.3786 - val_accuracy: 0.7820\n",
      "Epoch 11/25\n",
      "250/250 [==============================] - 90s 359ms/step - loss: 0.4373 - accuracy: 0.7936 - val_loss: 0.2217 - val_accuracy: 0.7785\n",
      "Epoch 12/25\n",
      "250/250 [==============================] - 90s 360ms/step - loss: 0.4281 - accuracy: 0.7997 - val_loss: 0.4757 - val_accuracy: 0.7960\n",
      "Epoch 13/25\n",
      "250/250 [==============================] - 99s 395ms/step - loss: 0.4148 - accuracy: 0.8071 - val_loss: 0.4885 - val_accuracy: 0.7940\n",
      "Epoch 14/25\n",
      "250/250 [==============================] - 82s 327ms/step - loss: 0.4067 - accuracy: 0.8165 - val_loss: 0.2872 - val_accuracy: 0.8010\n",
      "Epoch 15/25\n",
      "250/250 [==============================] - 64s 258ms/step - loss: 0.3979 - accuracy: 0.8160 - val_loss: 0.4189 - val_accuracy: 0.8095\n",
      "Epoch 16/25\n",
      "250/250 [==============================] - 67s 268ms/step - loss: 0.3896 - accuracy: 0.8231 - val_loss: 0.4614 - val_accuracy: 0.8125\n",
      "Epoch 17/25\n",
      "250/250 [==============================] - 65s 259ms/step - loss: 0.3748 - accuracy: 0.8254 - val_loss: 0.2898 - val_accuracy: 0.8045\n",
      "Epoch 18/25\n",
      "250/250 [==============================] - 65s 258ms/step - loss: 0.3654 - accuracy: 0.8376 - val_loss: 0.1581 - val_accuracy: 0.8000\n",
      "Epoch 19/25\n",
      "250/250 [==============================] - 68s 272ms/step - loss: 0.3508 - accuracy: 0.8419 - val_loss: 0.3983 - val_accuracy: 0.8055\n",
      "Epoch 20/25\n",
      "250/250 [==============================] - 66s 264ms/step - loss: 0.3424 - accuracy: 0.8485 - val_loss: 0.3436 - val_accuracy: 0.8155\n",
      "Epoch 21/25\n",
      "250/250 [==============================] - 64s 257ms/step - loss: 0.3322 - accuracy: 0.8553 - val_loss: 0.4821 - val_accuracy: 0.8040\n",
      "Epoch 22/25\n",
      "250/250 [==============================] - 63s 252ms/step - loss: 0.3212 - accuracy: 0.8612 - val_loss: 0.5795 - val_accuracy: 0.8110\n",
      "Epoch 23/25\n",
      "250/250 [==============================] - 66s 263ms/step - loss: 0.3266 - accuracy: 0.8575 - val_loss: 0.4918 - val_accuracy: 0.8005\n",
      "Epoch 24/25\n",
      "250/250 [==============================] - 65s 259ms/step - loss: 0.3017 - accuracy: 0.8675 - val_loss: 0.5499 - val_accuracy: 0.7970\n",
      "Epoch 25/25\n",
      "250/250 [==============================] - 64s 255ms/step - loss: 0.3019 - accuracy: 0.8680 - val_loss: 0.3875 - val_accuracy: 0.8035\n"
     ]
    },
    {
     "data": {
      "text/plain": [
       "<keras.callbacks.callbacks.History at 0x12fc54588>"
      ]
     },
     "execution_count": 12,
     "metadata": {},
     "output_type": "execute_result"
    }
   ],
   "source": [
    "'''\n",
    "classifier.fit_generator(training_set,\n",
    "                        samples_per_epoch=8000,\n",
    "                        nb_epoch=1,\n",
    "                        validation_data=test_set,\n",
    "                        nb_val_samples=2000)\n",
    "'''\n",
    "classifier.fit_generator(training_set,\n",
    "                        steps_per_epoch = 250,\n",
    "                        nb_epoch=25,\n",
    "                        validation_data=test_set)"
   ]
  },
  {
   "cell_type": "markdown",
   "metadata": {},
   "source": [
    "# Testing Image"
   ]
  },
  {
   "cell_type": "code",
   "execution_count": 14,
   "metadata": {
    "scrolled": true
   },
   "outputs": [
    {
     "name": "stdout",
     "output_type": "stream",
     "text": [
      "Image 1 is a dog\n",
      "Image 2 is a dog\n",
      "Image 3 is a dog\n",
      "Image 4 is a dog\n",
      "Image 5 is a cat\n",
      "Image 6 is a cat\n",
      "Image 7 is a cat\n",
      "Image 8 is a dog\n",
      "Image 9 is a dog\n",
      "Image 10 is a dog\n",
      "Image 11 is a dog\n"
     ]
    }
   ],
   "source": [
    "import numpy as np\n",
    "import matplotlib.pyplot as plt\n",
    "from keras.preprocessing import image\n",
    "for i in range(1,12):\n",
    "    test_image = image.load_img('../Data/Prediction/image' + str(i) + '.jpg', target_size=(64, 64))\n",
    "    test_image = image.img_to_array(test_image)\n",
    "    #plt.imshow(test_image/255.)\n",
    "    test_image = np.expand_dims(test_image, axis = 0)\n",
    "    result = classifier.predict(test_image)\n",
    "    if result[0][0] == 1: \n",
    "        prediction = 'dog'\n",
    "    else:\n",
    "        prediction = 'cat'\n",
    "    print('Image ' + str(i) + ' is a ' + prediction)\n",
    "\n",
    "\n"
   ]
  },
  {
   "cell_type": "code",
   "execution_count": null,
   "metadata": {},
   "outputs": [],
   "source": []
  },
  {
   "cell_type": "code",
   "execution_count": null,
   "metadata": {},
   "outputs": [],
   "source": []
  },
  {
   "cell_type": "code",
   "execution_count": null,
   "metadata": {},
   "outputs": [],
   "source": []
  },
  {
   "cell_type": "code",
   "execution_count": null,
   "metadata": {},
   "outputs": [],
   "source": []
  },
  {
   "cell_type": "code",
   "execution_count": null,
   "metadata": {},
   "outputs": [],
   "source": []
  },
  {
   "cell_type": "code",
   "execution_count": null,
   "metadata": {},
   "outputs": [],
   "source": []
  },
  {
   "cell_type": "code",
   "execution_count": null,
   "metadata": {},
   "outputs": [],
   "source": []
  }
 ],
 "metadata": {
  "kernelspec": {
   "display_name": "Python 3",
   "language": "python",
   "name": "python3"
  },
  "language_info": {
   "codemirror_mode": {
    "name": "ipython",
    "version": 3
   },
   "file_extension": ".py",
   "mimetype": "text/x-python",
   "name": "python",
   "nbconvert_exporter": "python",
   "pygments_lexer": "ipython3",
   "version": "3.7.2"
  }
 },
 "nbformat": 4,
 "nbformat_minor": 2
}
