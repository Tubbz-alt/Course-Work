{
 "cells": [
  {
   "cell_type": "markdown",
   "metadata": {},
   "source": [
    "\n",
    "# Part 1 - Building the CNN\n",
    "\n",
    "# Importing the Keras libraries and packages"
   ]
  },
  {
   "cell_type": "code",
   "execution_count": 2,
   "metadata": {},
   "outputs": [],
   "source": [
    "from keras.models import Sequential\n",
    "from keras.layers import Conv2D\n",
    "from keras.layers import MaxPooling2D\n",
    "from keras.layers import Flatten\n",
    "from keras.layers import Dense"
   ]
  },
  {
   "cell_type": "markdown",
   "metadata": {},
   "source": [
    "# Creating an Object of Sequential"
   ]
  },
  {
   "cell_type": "code",
   "execution_count": 3,
   "metadata": {},
   "outputs": [],
   "source": [
    "classifier = Sequential()"
   ]
  },
  {
   "cell_type": "markdown",
   "metadata": {},
   "source": [
    "# Step 1 - Convolution\n",
    "# Convolution - input image, applying feature detectors => feature map\n",
    "# 3D Array because colored images"
   ]
  },
  {
   "cell_type": "code",
   "execution_count": 4,
   "metadata": {},
   "outputs": [],
   "source": [
    "classifier.add(Conv2D(32, (3, 3), input_shape = (64, 64, 3), activation = 'relu'))"
   ]
  },
  {
   "cell_type": "markdown",
   "metadata": {},
   "source": [
    "# Step 2 - Pooling\n",
    "# Feature Map - Take Max -> Pooled Feature Map, reduced size, reduce complexity\n",
    "# without losing performance, don't lose spatial structure"
   ]
  },
  {
   "cell_type": "code",
   "execution_count": 5,
   "metadata": {},
   "outputs": [],
   "source": [
    "classifier.add(MaxPooling2D(pool_size = (2, 2)))"
   ]
  },
  {
   "cell_type": "markdown",
   "metadata": {},
   "source": [
    "\n",
    "# Adding second convolution layer\n",
    "# don't need to include input_shape since we're done it"
   ]
  },
  {
   "cell_type": "code",
   "execution_count": 6,
   "metadata": {},
   "outputs": [],
   "source": [
    "classifier.add(Conv2D(32, (3, 3), activation = 'relu'))\n",
    "classifier.add(MaxPooling2D(pool_size = (2, 2)))"
   ]
  },
  {
   "cell_type": "markdown",
   "metadata": {},
   "source": [
    "## Step 3 - Flattening\n",
    "- Pooled Feature Maps apply flattening maps to a huge vector \n",
    "- for a future ANN that is fully-conntected\n",
    "- Why don't we lose spatial structure by flattening?\n",
    "- We don't because the high numbers from convolution feature from the feature detector\n",
    "- Max Pooling keeps them these high numbers, and flattening keeps these high numbers\n",
    "- Why didn't we take all the pixels and flatten into a huge vector?\n",
    "- Only pixels of itself, but not how they're spatially structured around it\n",
    "- But if we apply convolution and pooling, since feature map corresponds to each feature \n",
    "- of an image, specific image unique pixels, we keep the spatial structure of the picture."
   ]
  },
  {
   "cell_type": "code",
   "execution_count": 7,
   "metadata": {},
   "outputs": [],
   "source": [
    "classifier.add(Flatten())"
   ]
  },
  {
   "cell_type": "markdown",
   "metadata": {},
   "source": [
    "# Step 4 - Full Connection"
   ]
  },
  {
   "cell_type": "code",
   "execution_count": 8,
   "metadata": {},
   "outputs": [],
   "source": [
    "classifier.add(Dense(units = 128, activation = 'relu'))\n",
    "classifier.add(Dense(units = 1, activation = 'sigmoid'))"
   ]
  },
  {
   "cell_type": "markdown",
   "metadata": {},
   "source": [
    "# Compile - SGD, Loss Function, Performance Metric\n",
    "# Logarithmic loss - binary cross entropy, more than two outcomes, categorical cross entropy\n",
    "# Metrics is the accuracy metric\n",
    "\n",
    "```py\n",
    "Adam optimizer.\n",
    "\n",
    "Default parameters follow those provided in the original paper.\n",
    "\n",
    "Arguments\n",
    "\n",
    "learning_rate: float >= 0. Learning rate.\n",
    "beta_1: float, 0 < beta < 1. Generally close to 1.\n",
    "beta_2: float, 0 < beta < 1. Generally close to 1.\n",
    "amsgrad: boolean. Whether to apply the AMSGrad variant of this algorithm from the paper \"On the Convergence of Adam and Beyond\".\n",
    "```"
   ]
  },
  {
   "cell_type": "code",
   "execution_count": 9,
   "metadata": {},
   "outputs": [],
   "source": [
    "classifier.compile(optimizer = 'adam', loss = 'binary_crossentropy', metrics = ['accuracy'])"
   ]
  },
  {
   "cell_type": "markdown",
   "metadata": {},
   "source": [
    "## part 2 - Fitting the CNN to the images \n",
    "## Keras preprocessing images to prevent overfitting, image augmentation, \n",
    "- great accuracy on training poor results on test sets\n",
    "- Need lots of images to find correlations, patterns in pixels\n",
    "- Find patterns in pixels, 10000 images, 8000 training, not much exactly or use a trick\n",
    "- Image augmentation will create batches and each batch will create random transformation\n",
    "- leading to more diverse images and more training\n",
    "- Image augmentation allows us to enrich our dataset to prevent overfitting\n",
    "\n"
   ]
  },
  {
   "cell_type": "code",
   "execution_count": 10,
   "metadata": {},
   "outputs": [
    {
     "name": "stdout",
     "output_type": "stream",
     "text": [
      "Found 8000 images belonging to 2 classes.\n",
      "Found 2000 images belonging to 2 classes.\n"
     ]
    }
   ],
   "source": [
    "\n",
    "from keras.preprocessing.image import ImageDataGenerator\n",
    "\n",
    "train_datagen = ImageDataGenerator(\n",
    "        rescale=1./255,\n",
    "        shear_range=0.2,\n",
    "        zoom_range=0.2,\n",
    "        horizontal_flip=True)\n",
    "\n",
    "test_datagen = ImageDataGenerator(rescale=1./255)\n",
    "\n",
    "training_set = train_datagen.flow_from_directory('Data/Train',\n",
    "                                                 target_size=(64, 64),\n",
    "                                                 batch_size=32,\n",
    "                                                 class_mode='binary')\n",
    "\n",
    "test_set = test_datagen.flow_from_directory('Data/Test',\n",
    "                                            target_size=(64, 64),\n",
    "                                            batch_size=32,\n",
    "                                            class_mode='binary')"
   ]
  },
  {
   "cell_type": "markdown",
   "metadata": {},
   "source": [
    "# Traing and Testing on the Images"
   ]
  },
  {
   "cell_type": "code",
   "execution_count": 11,
   "metadata": {},
   "outputs": [
    {
     "name": "stderr",
     "output_type": "stream",
     "text": [
      "/Library/Frameworks/Python.framework/Versions/3.7/lib/python3.7/site-packages/ipykernel_launcher.py:11: UserWarning: The semantics of the Keras 2 argument `steps_per_epoch` is not the same as the Keras 1 argument `samples_per_epoch`. `steps_per_epoch` is the number of batches to draw from the generator at each epoch. Basically steps_per_epoch = samples_per_epoch/batch_size. Similarly `nb_val_samples`->`validation_steps` and `val_samples`->`steps` arguments have changed. Update your method calls accordingly.\n",
      "  # This is added back by InteractiveShellApp.init_path()\n",
      "/Library/Frameworks/Python.framework/Versions/3.7/lib/python3.7/site-packages/ipykernel_launcher.py:11: UserWarning: Update your `fit_generator` call to the Keras 2 API: `fit_generator(<keras.pre..., steps_per_epoch=250, validation_data=<keras.pre..., epochs=25)`\n",
      "  # This is added back by InteractiveShellApp.init_path()\n"
     ]
    },
    {
     "name": "stdout",
     "output_type": "stream",
     "text": [
      "Epoch 1/25\n",
      "250/250 [==============================] - 89s 357ms/step - loss: 0.6497 - accuracy: 0.6104 - val_loss: 0.6302 - val_accuracy: 0.6715\n",
      "Epoch 2/25\n",
      "250/250 [==============================] - 55s 219ms/step - loss: 0.5823 - accuracy: 0.6982 - val_loss: 0.3140 - val_accuracy: 0.7130\n",
      "Epoch 3/25\n",
      "250/250 [==============================] - 55s 221ms/step - loss: 0.5439 - accuracy: 0.7182 - val_loss: 0.8190 - val_accuracy: 0.7525\n",
      "Epoch 4/25\n",
      "250/250 [==============================] - 58s 231ms/step - loss: 0.5060 - accuracy: 0.7466 - val_loss: 0.4290 - val_accuracy: 0.7815\n",
      "Epoch 5/25\n",
      "250/250 [==============================] - 54s 216ms/step - loss: 0.4835 - accuracy: 0.7684 - val_loss: 0.8042 - val_accuracy: 0.7755\n",
      "Epoch 6/25\n",
      "250/250 [==============================] - 54s 215ms/step - loss: 0.4652 - accuracy: 0.7771 - val_loss: 0.4998 - val_accuracy: 0.7760\n",
      "Epoch 7/25\n",
      "250/250 [==============================] - 56s 225ms/step - loss: 0.4561 - accuracy: 0.7855 - val_loss: 0.7321 - val_accuracy: 0.7835\n",
      "Epoch 8/25\n",
      "250/250 [==============================] - 55s 218ms/step - loss: 0.4386 - accuracy: 0.7928 - val_loss: 0.2311 - val_accuracy: 0.8025\n",
      "Epoch 9/25\n",
      "250/250 [==============================] - 53s 213ms/step - loss: 0.4351 - accuracy: 0.7993 - val_loss: 0.4181 - val_accuracy: 0.7770\n",
      "Epoch 10/25\n",
      "250/250 [==============================] - 54s 215ms/step - loss: 0.4131 - accuracy: 0.8074 - val_loss: 0.4708 - val_accuracy: 0.8045\n",
      "Epoch 11/25\n",
      "250/250 [==============================] - 53s 212ms/step - loss: 0.4027 - accuracy: 0.8108 - val_loss: 0.3852 - val_accuracy: 0.7915\n",
      "Epoch 12/25\n",
      "250/250 [==============================] - 53s 213ms/step - loss: 0.3941 - accuracy: 0.8185 - val_loss: 0.3066 - val_accuracy: 0.8010\n",
      "Epoch 13/25\n",
      "250/250 [==============================] - 53s 213ms/step - loss: 0.3796 - accuracy: 0.8226 - val_loss: 0.5611 - val_accuracy: 0.8030\n",
      "Epoch 14/25\n",
      "250/250 [==============================] - 54s 214ms/step - loss: 0.3685 - accuracy: 0.8325 - val_loss: 0.7156 - val_accuracy: 0.8085\n",
      "Epoch 15/25\n",
      "250/250 [==============================] - 53s 213ms/step - loss: 0.3596 - accuracy: 0.8382 - val_loss: 0.3777 - val_accuracy: 0.8075\n",
      "Epoch 16/25\n",
      "250/250 [==============================] - 54s 214ms/step - loss: 0.3383 - accuracy: 0.8490 - val_loss: 0.4452 - val_accuracy: 0.8090\n",
      "Epoch 17/25\n",
      "250/250 [==============================] - 55s 222ms/step - loss: 0.3366 - accuracy: 0.8551 - val_loss: 0.3719 - val_accuracy: 0.8090\n",
      "Epoch 18/25\n",
      "250/250 [==============================] - 62s 248ms/step - loss: 0.3133 - accuracy: 0.8636 - val_loss: 0.2861 - val_accuracy: 0.8215\n",
      "Epoch 19/25\n",
      "250/250 [==============================] - 57s 226ms/step - loss: 0.3042 - accuracy: 0.8656 - val_loss: 0.2918 - val_accuracy: 0.8120\n",
      "Epoch 20/25\n",
      "250/250 [==============================] - 54s 218ms/step - loss: 0.2999 - accuracy: 0.8717 - val_loss: 0.3214 - val_accuracy: 0.8135\n",
      "Epoch 21/25\n",
      "250/250 [==============================] - 54s 216ms/step - loss: 0.2796 - accuracy: 0.8814 - val_loss: 0.3951 - val_accuracy: 0.8140\n",
      "Epoch 22/25\n",
      "250/250 [==============================] - 57s 227ms/step - loss: 0.2831 - accuracy: 0.8785 - val_loss: 0.1953 - val_accuracy: 0.8315\n",
      "Epoch 23/25\n",
      "250/250 [==============================] - 55s 219ms/step - loss: 0.2518 - accuracy: 0.8921 - val_loss: 0.1310 - val_accuracy: 0.8240\n",
      "Epoch 24/25\n",
      "250/250 [==============================] - 53s 213ms/step - loss: 0.2495 - accuracy: 0.8982 - val_loss: 0.6903 - val_accuracy: 0.8105\n",
      "Epoch 25/25\n",
      "250/250 [==============================] - 55s 218ms/step - loss: 0.2417 - accuracy: 0.8967 - val_loss: 0.8630 - val_accuracy: 0.8185\n"
     ]
    },
    {
     "data": {
      "text/plain": [
       "<keras.callbacks.callbacks.History at 0x13b865588>"
      ]
     },
     "execution_count": 11,
     "metadata": {},
     "output_type": "execute_result"
    }
   ],
   "source": [
    "'''\n",
    "classifier.fit_generator(training_set,\n",
    "                        samples_per_epoch=8000,\n",
    "                        nb_epoch=1,\n",
    "                        validation_data=test_set,\n",
    "                        nb_val_samples=2000)\n",
    "'''\n",
    "classifier.fit_generator(training_set,\n",
    "                        steps_per_epoch = 250,\n",
    "                        nb_epoch=25,\n",
    "                        validation_data=test_set)"
   ]
  },
  {
   "cell_type": "markdown",
   "metadata": {},
   "source": [
    "# Testing Image"
   ]
  },
  {
   "cell_type": "code",
   "execution_count": 13,
   "metadata": {
    "scrolled": true
   },
   "outputs": [
    {
     "name": "stdout",
     "output_type": "stream",
     "text": [
      "Image 1 is a dog\n",
      "Image 2 is a cat\n",
      "Image 3 is a dog\n",
      "Image 4 is a dog\n",
      "Image 5 is a cat\n",
      "Image 6 is a cat\n",
      "Image 7 is a cat\n",
      "Image 8 is a dog\n",
      "Image 9 is a dog\n",
      "Image 10 is a dog\n",
      "Image 11 is a dog\n"
     ]
    },
    {
     "data": {
      "image/png": "[encoded data removed]",
      "text/plain": [
       "<Figure size 432x288 with 1 Axes>"
      ]
     },
     "metadata": {
      "needs_background": "light"
     },
     "output_type": "display_data"
    }
   ],
   "source": [
    "import numpy as np\n",
    "import matplotlib.pyplot as plt\n",
    "from keras.preprocessing import image\n",
    "for i in range(1,12):\n",
    "    test_image = image.load_img('Data/Prediction/image' + str(i) + '.jpg', target_size=(64, 64))\n",
    "    test_image = image.img_to_array(test_image)\n",
    "    #plt.imshow(test_image/255.)\n",
    "    test_image = np.expand_dims(test_image, axis = 0)\n",
    "    result = classifier.predict(test_image)\n",
    "    if result[0][0] == 1: \n",
    "        prediction = 'dog'\n",
    "    else:\n",
    "        prediction = 'cat'\n",
    "    print('Image ' + str(i) + ' is a ' + prediction)\n",
    "\n",
    "    \n",
    "plt.show()\n"
   ]
  },
  {
   "cell_type": "code",
   "execution_count": null,
   "metadata": {},
   "outputs": [],
   "source": []
  },
  {
   "cell_type": "code",
   "execution_count": null,
   "metadata": {},
   "outputs": [],
   "source": []
  },
  {
   "cell_type": "code",
   "execution_count": null,
   "metadata": {},
   "outputs": [],
   "source": []
  },
  {
   "cell_type": "code",
   "execution_count": null,
   "metadata": {},
   "outputs": [],
   "source": []
  }
 ],
 "metadata": {
  "kernelspec": {
   "display_name": "Python 3",
   "language": "python",
   "name": "python3"
  },
  "language_info": {
   "codemirror_mode": {
    "name": "ipython",
    "version": 3
   },
   "file_extension": ".py",
   "mimetype": "text/x-python",
   "name": "python",
   "nbconvert_exporter": "python",
   "pygments_lexer": "ipython3",
   "version": "3.7.2"
  }
 },
 "nbformat": 4,
 "nbformat_minor": 2
}
